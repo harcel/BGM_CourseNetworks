{
 "cells": [
  {
   "cell_type": "markdown",
   "id": "836a4492-008f-4db7-86ec-5a7a32052cf6",
   "metadata": {},
   "source": [
    "# Modeling Student Results in Course Networks\n",
    "\n",
    "This notebook contains example code of how to the Modeling described in Haas, Caprani & Van Beurden. First, the idealized experiments are repeated (and there are models shown here than in the paper). After that, the Open University data set is decribed briefly and modeled. The data set of the Amsterdam College of Law is not public and will not be shown here, but the procedure is analogous to the other examples.\n",
    "\n",
    "## Idealized experiments"
   ]
  },
  {
   "cell_type": "code",
   "execution_count": null,
   "id": "73097625-f94f-4c50-a082-6fb34eb0a909",
   "metadata": {},
   "outputs": [],
   "source": [
    "import numpy as np\n",
    "import pandas as pd\n",
    "import matplotlib.pyplot as plt\n",
    "import seaborn as sns\n",
    "import pymc as pm\n",
    "\n",
    "from bgm_course_networks import create_data, grade_df, course_network, show_course_network"
   ]
  },
  {
   "cell_type": "code",
   "execution_count": null,
   "id": "58edaf20-768c-47a7-a17e-65ec07bc021b",
   "metadata": {},
   "outputs": [],
   "source": [
    "# Create a list of grades for n_st students\n",
    "n_st = 500\n",
    "grades = create_data(n_st=n_st)\n",
    "# Set to NaN for those who didn't do some courses:\n",
    "grades[n_st:,:3] = np.nan\n",
    "grades[:n_st,4:] = np.nan\n",
    "\n",
    "\n",
    "plt.hist(grades.flatten(), bins=np.arange(6,10,.1));\n",
    "plt.title(\"Distribution of all grades\");"
   ]
  },
  {
   "cell_type": "code",
   "execution_count": null,
   "id": "af112e52-47ff-4f8c-b93e-a302da05f1a2",
   "metadata": {},
   "outputs": [],
   "source": [
    "# Model it and visualize results\n",
    "trace, sim = model_and_visualize(cijfertjes)"
   ]
  },
  {
   "cell_type": "code",
   "execution_count": null,
   "id": "a6b3e67b-7327-4191-a229-9f4f1b3c9237",
   "metadata": {},
   "outputs": [],
   "source": [
    "# The computational graph of the model\n",
    "model_pic = pm.model_graph.model_to_graphviz(sim)\n",
    "model_pic"
   ]
  },
  {
   "cell_type": "markdown",
   "id": "dd0764ea-36e0-42bb-abf4-30680c2389fa",
   "metadata": {},
   "source": [
    "## Experimenting with different ingredients\n",
    "\n",
    "1. Increasing the noise on grades"
   ]
  },
  {
   "cell_type": "code",
   "execution_count": null,
   "id": "47d8cdca-e201-4066-85c3-489856adac0b",
   "metadata": {},
   "outputs": [],
   "source": [
    "n_st = 500\n",
    "grades = create_data(n_st=n_st, noise_grades=0.7)\n",
    "# Set to NaN for those who didn't do some courses:\n",
    "grades[n_st:,:3] = np.nan\n",
    "grades[:n_st,4:] = np.nan\n",
    "# to df\n",
    "scatter_grades = grade_df(grades)\n",
    "# Model\n",
    "trace_scatter_grades, sim_scatter_grades = model_and_visualize(cijfertjes_scatter_grades)"
   ]
  },
  {
   "cell_type": "markdown",
   "id": "4aa3ee02-95b6-4ae4-bcf0-3206fe529f15",
   "metadata": {},
   "source": [
    "2. Decrease the fraction of people doing the linking course (still with some scatter on noise)"
   ]
  },
  {
   "cell_type": "code",
   "execution_count": null,
   "id": "a3c866c9-0796-4875-b535-d480831c6f65",
   "metadata": {},
   "outputs": [],
   "source": [
    "f_link = 0.1\n",
    "n_st = 500\n",
    "grades = create_data(n_st=n_st, noise_cijfers=.5)\n",
    "# Set to NaN for those who didn't do some courses:\n",
    "grades[n_st:,:3] = np.nan\n",
    "grades[:n_st,4:] = np.nan\n",
    "# Remove a bunch of people from the link course\n",
    "ind_remove = np.random.choice(np.arange(2*n_st), size=int(2*n_st*(1-f_link)), replace=False)\n",
    "grades[ind_remove,3] = np.nan \n",
    "# to df\n",
    "grades_overlap = grade_df(grades)\n",
    "# Model\n",
    "trace_overlap, sim_overlap = model_and_visualize(cijfertjes_overlap)"
   ]
  },
  {
   "cell_type": "markdown",
   "id": "1c9c4007-46c1-4074-8260-0130e03b2128",
   "metadata": {},
   "source": [
    "## The Open Univeristy data set\n",
    "\n",
    "The data is downloaded from the [Open University](https://analyse.kmi.open.ac.uk/open_dataset) and contains information on students, modules, presentation and assessments. There is lots more information than is used here. This Exploration only focuses on aspects of the data used in the study.\n",
    "\n",
    "The image below comes directly from the above website and shows the DB relation structure.\n",
    "\n",
    "<img src=https://analyse.kmi.open.ac.uk/resources/images/model.png>\n",
    "\n",
    "We will focus on studentAssessment results of the \"Exam\" type. The code assumes that the data is stored in a 'data/' folder in the working directory. This folder is not included in the repository."
   ]
  },
  {
   "cell_type": "code",
   "execution_count": null,
   "id": "44ad93fd-7f30-4c52-93ac-25ba850512b3",
   "metadata": {},
   "outputs": [],
   "source": [
    "datapath = 'data/'\n",
    "all_results = pd.read_csv(datapath+'studentAssessment.csv')\n",
    "assessments = pd.read_csv(datapath+'assessments.csv')"
   ]
  },
  {
   "cell_type": "code",
   "execution_count": null,
   "id": "43d99c07-9f18-4c38-92ec-d4c93c2046c2",
   "metadata": {},
   "outputs": [],
   "source": [
    "print(all_results.shape)\n",
    "all_results.head()"
   ]
  },
  {
   "cell_type": "code",
   "execution_count": null,
   "id": "b18211a1-f5fd-46b6-a13c-9fcb6f5b4af3",
   "metadata": {},
   "outputs": [],
   "source": [
    "print(assessments.shape)\n",
    "assessments.tail()"
   ]
  },
  {
   "cell_type": "markdown",
   "id": "e7417b1d-a87c-4211-bdd1-68bca662d2e8",
   "metadata": {},
   "source": [
    "From the website: code presentation with yyyy(J/B) are separate presentations that may differ in structure, so it may be wise to see one \"course\" as `code_module`+`code_presentation`. For now, though, I will just use code_module, as that is supposedly the same educational content, just given at another time, in a slightly different structure. We are interested in final grades, which are calculated as follows: the weights of all grades for assessments (other than Exam) add up to 100%, and the Exam has weight 100% as well. The website says nothing about how the grade of a course is calculated, so we will assume it is the average of exam and assessments, if both exist."
   ]
  },
  {
   "cell_type": "code",
   "execution_count": null,
   "id": "5135f255-b4d9-4ae5-8840-06bfb4cee6ca",
   "metadata": {},
   "outputs": [],
   "source": [
    "# assessments['course'] = assessments.code_module + assessments.code_presentation\n",
    "assessments['course'] = assessments.code_module\n",
    "exams = assessments[assessments.assessment_type == \"Exam\"]\n",
    "assessments = assessments[assessments.assessment_type != \"Exam\"]\n",
    "print(f'That leaves us with {assessments.shape[0]} assessments and {exams.shape[0]} exams')"
   ]
  },
  {
   "cell_type": "code",
   "execution_count": null,
   "id": "ac45448c-f335-4452-bc1b-db26e35c59bd",
   "metadata": {},
   "outputs": [],
   "source": [
    "results = all_results.merge(exams, how='inner', on='id_assessment')#[['id_student', 'course', 'score', 'assessment_type']]\n",
    "results_assessments = all_results.merge(assessments, how='inner', on='id_assessment')"
   ]
  },
  {
   "cell_type": "code",
   "execution_count": null,
   "id": "7d4ac63f-eef1-488d-97d9-64f030898139",
   "metadata": {},
   "outputs": [],
   "source": [
    "print(results.shape)\n",
    "results.head()"
   ]
  },
  {
   "cell_type": "markdown",
   "id": "61cbf818-05ab-49db-bd5b-07aaa342fca5",
   "metadata": {},
   "source": [
    "So, added up, per student, per code_module, the weights should be one hundred for all non-exams. Apparently, not everyone handed in everything."
   ]
  },
  {
   "cell_type": "code",
   "execution_count": null,
   "id": "e1bcc605-cb7e-44ef-af53-d0358b49ac71",
   "metadata": {},
   "outputs": [],
   "source": [
    "results_assessments[\"frac_score\"] = results_assessments.weight * results_assessments.score\n",
    "\n",
    "pcps_weightedscore = results_assessments.groupby(['code_module', 'id_student']).frac_score.sum() / results_assessments.groupby(['code_module', 'id_student']).weight.sum()\n",
    "\n",
    "pcps = pd.DataFrame(pcps_weightedscore).reset_index().rename(columns={0:'score'})\n",
    "pcps.head()"
   ]
  },
  {
   "cell_type": "markdown",
   "id": "2a5f5276-de25-4f8f-9aea-f14ab402d4a0",
   "metadata": {},
   "source": [
    "### There are only exams of students for coursed CCC and DDD, while IDs exist for all...\n",
    "\n",
    "Instead, let's go for exams for a course and assessments for a course as separate course results!"
   ]
  },
  {
   "cell_type": "code",
   "execution_count": null,
   "id": "e56fc2a0-72f6-456d-b871-aca7ffe2c173",
   "metadata": {},
   "outputs": [],
   "source": [
    "pcps['code_module'] = pcps.code_module + '_a'\n",
    "student_results = pd.concat([results[['code_module', 'id_student', 'score']], pcps], axis=0).dropna().rename(\n",
    "    columns={'id_student':'StudentNumber', 'code_module':'Course', 'score':'Grade'})"
   ]
  },
  {
   "cell_type": "code",
   "execution_count": null,
   "id": "a9b3745c-d80d-4734-b754-b472cc26bd75",
   "metadata": {},
   "outputs": [],
   "source": [
    "student_results.Grade.hist();"
   ]
  },
  {
   "cell_type": "markdown",
   "id": "285a8c57-38c0-46dc-a643-a507fdaa5680",
   "metadata": {},
   "source": [
    "Let's see if a network can be built out of this. Useless data, almost all students are unique, no overlapping groups."
   ]
  },
  {
   "cell_type": "code",
   "execution_count": null,
   "id": "aed8e670-3324-49f1-a525-45da689b44ea",
   "metadata": {},
   "outputs": [],
   "source": [
    "from bgm_course_networks import course_network, show_course_network\n",
    "nw = course_network(student_results,\n",
    "                   min_students_course=10,\n",
    "                   min_students_overlap=5)\n",
    "show_course_network(nw, kind=\"spring\")\n",
    "# plt.savefig('figures/network_OU.png')"
   ]
  },
  {
   "cell_type": "code",
   "execution_count": null,
   "id": "dcca255c-f098-4e50-8475-e268d7d0290f",
   "metadata": {},
   "outputs": [],
   "source": [
    "results_network = student_results[student_results.Course.isin(list(nw.nodes))]\n",
    "print(f'There are {len(np.unique(results_network.StudentNumber))} students')"
   ]
  },
  {
   "cell_type": "code",
   "execution_count": null,
   "id": "a11d95cc-89c3-430a-bd86-259eb6c1d59d",
   "metadata": {},
   "outputs": [],
   "source": [
    "# Mean and std of grades, number of students\n",
    "results_network.groupby('Course').agg({'Grade':['mean', 'std', 'count']})"
   ]
  },
  {
   "cell_type": "code",
   "execution_count": null,
   "id": "e7df8769-c56a-4bcf-b6e2-120db0e2299a",
   "metadata": {},
   "outputs": [],
   "source": []
  },
  {
   "cell_type": "code",
   "execution_count": null,
   "id": "8ff7fe53-327d-499a-9ff6-46b1142db6af",
   "metadata": {},
   "outputs": [],
   "source": [
    "for_sns = results_network.drop_duplicates(subset=['StudentNumber', 'Course']).pivot(index='StudentNumber', columns='Course', values='Grade')\n",
    "for_sns.head()"
   ]
  },
  {
   "cell_type": "code",
   "execution_count": null,
   "id": "0c52a2a9-04fc-4956-b1f6-8b2b924d549a",
   "metadata": {},
   "outputs": [],
   "source": [
    "numbers = []\n",
    "for e in nw.edges.data():\n",
    "    numbers.append(e[2]['nstudents'])\n",
    "nums = np.array(numbers)    \n",
    "maxnum = nums.max()\n",
    "\n",
    "\n",
    "def corrdot(*args, maxnum=maxnum, **kwargs):\n",
    "    filt = (args[0].notna() & args[1].notna())\n",
    "    corr_r = args[0][filt].corr(args[1][filt], 'pearson')\n",
    "    if not corr_r < 2: return\n",
    "    font_size = 25*filt.sum() / maxnum + 10\n",
    "    corr_text = round(corr_r, 2)\n",
    "    ax = plt.gca()\n",
    "    alpha = abs(corr_r) * 9/10 + .1\n",
    "    ax.annotate(corr_text, [.5, .5,],  xycoords=\"axes fraction\",\n",
    "                ha='center', va='center', fontsize=font_size, alpha=alpha)\n",
    "\n",
    "    \n",
    "def scatter_or_density(*args, **kwargs):\n",
    "    N = (args[0].notna() & args[1].notna()).sum()\n",
    "    if N < 100: return sns.scatterplot(x=args[0], y=args[1])\n",
    "    else: return sns.kdeplot(x=args[0], y=args[1])\n",
    "\n",
    "g = sns.PairGrid(for_sns)\n",
    "g.fig.set_size_inches(10,10)\n",
    "# g.map_lower(sns.scatterplot, alpha=0.2)\n",
    "g.map_lower(scatter_or_density)\n",
    "g.map_diag(sns.histplot, bins=np.arange(0,101, 5))\n",
    "g.map_upper(corrdot)\n",
    "g.fig.subplots_adjust(wspace=0, hspace=0)\n",
    "\n",
    "# Remove axis labels\n",
    "for ax in g.axes.flatten():\n",
    "    ax.set_ylabel('')\n",
    "    ax.set_xlabel('')\n",
    "    ax.set_xlim(0,100)\n",
    "    ax.set_ylim(0,100)\n",
    "    ax.set_xticks([50,100])\n",
    "    ax.set_xticklabels([50, 100], fontsize=14)\n",
    "    ax.set_yticks([50,100])\n",
    "    ax.set_yticklabels([50, 100], fontsize=14)    \n",
    "\n",
    "# Add titles to the diagonal axes/subplots\n",
    "for ax, col in zip(np.diag(g.axes), for_sns.columns):\n",
    "    ax.set_title(col, y=0.82, fontsize=14)\n",
    "# g.savefig('figures/OU_pairplot.png')"
   ]
  },
  {
   "cell_type": "markdown",
   "id": "79d43944-5234-4ffd-8d5f-907ca8520a4b",
   "metadata": {},
   "source": [
    "## Model the data set\n",
    "\n",
    "See the paper for details on the selectino of courses."
   ]
  },
  {
   "cell_type": "code",
   "execution_count": null,
   "id": "b494973f-834a-4c7d-bb20-4a238b931c86",
   "metadata": {},
   "outputs": [],
   "source": [
    "# This is another modeling function, but it's very similar\n",
    "trace, sim = model_and_visualizeOU(results_network[results_network.Course.isin(['CCC_a', 'DDD', 'DDD_a'])])"
   ]
  },
  {
   "cell_type": "code",
   "execution_count": null,
   "id": "0282d6a8-efbc-4a96-96f3-01e1ef322360",
   "metadata": {},
   "outputs": [],
   "source": [
    "# Save the trace, so I don't need to run it all again tomorrow!\n",
    "# import pickle\n",
    "# with open('data/OUtrace_allbut_CCC_BBB_a.pkl', 'wb') as f:\n",
    "#     pickle.dump(trace, f)\n"
   ]
  },
  {
   "cell_type": "code",
   "execution_count": null,
   "id": "22fb477e-ba94-4d1d-b0a2-0216957c0c22",
   "metadata": {},
   "outputs": [],
   "source": [
    "import seaborn as sns\n",
    "# Looking at student ability from the posteriors\n",
    "students = az.summary(trace, var_names=[\"Student ability\"])\n",
    "sd_overall = students[\"mean\"].std()\n",
    "print(sd_overall)\n",
    "\n",
    "sns.displot(data=students, x='sd', label='Posteriors of students')\n",
    "plt.vlines(sd_overall, 0, 450, color='red', label='Means of students')\n",
    "plt.xlabel('Standard deviation')\n",
    "# plt.xlim([0,3.2])\n",
    "plt.legend(loc='upper right');\n",
    "# plt.savefig('OUstudent_ability_stds.pdf')"
   ]
  }
 ],
 "metadata": {
  "kernelspec": {
   "display_name": "Python 3 (ipykernel)",
   "language": "python",
   "name": "python3"
  },
  "language_info": {
   "codemirror_mode": {
    "name": "ipython",
    "version": 3
   },
   "file_extension": ".py",
   "mimetype": "text/x-python",
   "name": "python",
   "nbconvert_exporter": "python",
   "pygments_lexer": "ipython3",
   "version": "3.10.8"
  }
 },
 "nbformat": 4,
 "nbformat_minor": 5
}
